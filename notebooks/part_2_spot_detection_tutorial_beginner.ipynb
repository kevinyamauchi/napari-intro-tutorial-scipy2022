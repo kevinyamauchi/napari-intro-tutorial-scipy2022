{
 "cells": [
  {
   "cell_type": "markdown",
   "metadata": {},
   "source": [
    "# Spot detection with napari\n",
    "\n",
    "\n",
    "### Overview\n",
    "In this activity, we will perform spot detection on some in situ sequencing data ([Feldman and Singh et al., Cell, 2019](https://www.cell.com/cell/fulltext/S0092-8674(19)31067-0s)). In doing so, we will combine methods from [scipy](https://www.scipy.org/), [scikit-image](https://scikit-image.org/), and [cellpose](https://github.com/MouseLand/cellpose). The goal is to familiarize you with performing analysis that integrates the scientific python ecosystem and napari.\n",
    "\n",
    "### Data source\n",
    "\n",
    "The data were downloaded from the [OpticalPooledScreens github repository](https://github.com/feldman4/OpticalPooledScreens).\n",
    "\n",
    "### Next steps\n",
    "\n",
    "Following this activity, we will use the workflow generated in this activity to create a napari spot detection plugin. "
   ]
  },
  {
   "cell_type": "markdown",
   "metadata": {},
   "source": [
    "# Load the data\n",
    "\n",
    "In the cells below load the data using the scikit-image `imread()` function. For more information about the `imread()` function, please see the [scikit-image docs](https://scikit-image.org/docs/dev/api/skimage.io.html#skimage.io.imread). We are loading two images:\n",
    "\n",
    "- `nuclei`: an image of cell nuclei\n",
    "- `spots`: an image of in situ sequencing spots"
   ]
  },
  {
   "cell_type": "code",
   "execution_count": null,
   "metadata": {},
   "outputs": [],
   "source": [
    "from skimage import io\n",
    "\n",
    "nuclei_url = 'https://raw.githubusercontent.com/kevinyamauchi/napari-spot-detection-tutorial/main/data/nuclei_cropped.tif'\n",
    "nuclei = io.imread(nuclei_url)\n",
    "\n",
    "spots_url = 'https://raw.githubusercontent.com/kevinyamauchi/napari-spot-detection-tutorial/main/data/spots_cropped.tif'\n",
    "spots = io.imread(spots_url)"
   ]
  },
  {
   "cell_type": "markdown",
   "metadata": {},
   "source": [
    "# View the data\n",
    "\n",
    "We will use napari to view our data. To do so, we first must create the viewer. Once the Viewer is created, we can add images to the viewer via the Viewer's `add_image()` method. "
   ]
  },
  {
   "cell_type": "code",
   "execution_count": null,
   "metadata": {
    "scrolled": true
   },
   "outputs": [],
   "source": [
    "import napari\n",
    "\n",
    "# create the napari viewer\n",
    "viewer = napari.Viewer();\n",
    "\n",
    "# add the nuclei image to the viewer\n",
    "viewer.add_image(nuclei);\n"
   ]
  },
  {
   "cell_type": "markdown",
   "metadata": {},
   "source": [
    "In the cell below, add the spots image to the viewer as was done above for the nuclei image. After loading the data, inspect it in the viewer and adjust the layer settings to your liking (e.g., contrast limits, colormap). You can pan/zoom around the image by click/dragging to pan and scrolling with your mousewheel or trackpad to zoom.\n",
    "\n",
    "**Hint**: you can adjust a layer's opacity to see the change how much you see of the layers that are \"under\" it."
   ]
  },
  {
   "cell_type": "code",
   "execution_count": null,
   "metadata": {},
   "outputs": [],
   "source": [
    "# add the spots image to the viewer\n",
    "\n"
   ]
  },
  {
   "cell_type": "markdown",
   "metadata": {},
   "source": [
    "# Create an image filter\n",
    "\n",
    "You may have noticed the the spots image contains background and autofluorescence from the cells. To improve spot detection, we will apply a high pass filter to improve the contrast of the spots."
   ]
  },
  {
   "cell_type": "code",
   "execution_count": null,
   "metadata": {},
   "outputs": [],
   "source": [
    "import numpy as np\n",
    "from scipy import ndimage as ndi\n",
    "\n",
    "def gaussian_high_pass(image: np.ndarray, sigma: float = 2):\n",
    "    \"\"\"Apply a gaussian high pass filter to an image.\n",
    "\n",
    "    Parameters\n",
    "    ----------\n",
    "    image : np.ndarray\n",
    "        The image to be filtered.\n",
    "    sigma : float\n",
    "        The sigma (width) of the gaussian filter to be applied.\n",
    "        The default value is 2.\n",
    "    \n",
    "    Returns\n",
    "    -------\n",
    "    high_passed_im : np.ndarray\n",
    "        The image with the high pass filter applied\n",
    "    \"\"\"\n",
    "    low_pass = ndi.gaussian_filter(image, sigma)\n",
    "    high_passed_im = image - low_pass\n",
    "    \n",
    "    return high_passed_im"
   ]
  },
  {
   "cell_type": "markdown",
   "metadata": {},
   "source": [
    "In the cell below, apply the gaussian high pass filter to the `spots` image and add the image to the viewer."
   ]
  },
  {
   "cell_type": "code",
   "execution_count": null,
   "metadata": {},
   "outputs": [],
   "source": [
    "# Use the gaussian_high_pass function to filter the spots image\n",
    "\n",
    "\n",
    "# add the filtered image to the viewer\n",
    "# hint: set the opacity < 1 in order to see the layers underneath\n"
   ]
  },
  {
   "cell_type": "markdown",
   "metadata": {},
   "source": [
    "# Detect spots\n",
    "\n",
    "Next, we will create a function to detect the spots in the spot image. This function should take the raw image, apply the gaussian high pass filter from above and then use one of the blob detection algorithms from sci-kit image to perform the blob detection. The `detect_spots()` function should return a numpy array containing the coordinates of each spot and a numpy array containing the diameter of each spot.\n",
    "\n",
    "Some hints:\n",
    "- See the [blob detection tutorial from scikit-image](https://scikit-image.org/docs/dev/auto_examples/features_detection/plot_blob.html). - We recommend the [blob_log detector](https://scikit-image.org/docs/dev/api/skimage.feature.html#skimage.feature.blob_log), but feel free to experiment!\n",
    "- See the \"Note\" from the blob_log docs: \"The radius of each blob is approximately $\\sqrt{2}\\sigma$ for a 2-D image\""
   ]
  },
  {
   "cell_type": "code",
   "execution_count": null,
   "metadata": {},
   "outputs": [],
   "source": [
    "import numpy as np\n",
    "from skimage.feature import blob_log\n",
    "\n",
    "def detect_spots(\n",
    "    image: np.ndarray,\n",
    "    high_pass_sigma: float = 2,\n",
    "    spot_threshold: float = 0.01,\n",
    "    blob_sigma: float = 2\n",
    "):\n",
    "    \"\"\"Apply a gaussian high pass filter to an image.\n",
    "\n",
    "    Parameters\n",
    "    ----------\n",
    "    image : np.ndarray\n",
    "        The image in which to detect the spots.\n",
    "    high_pass_sigma : float\n",
    "        The sigma (width) of the gaussian filter to be applied.\n",
    "        The default value is 2.\n",
    "    spot_threshold : float\n",
    "        The threshold to be passed to the blob detector.\n",
    "        The default value is 0.01.\n",
    "    blob_sigma: float\n",
    "        The expected sigma (width) of the spots. This parameter\n",
    "        is passed to the \"max_sigma\" parameter of the blob\n",
    "        detector.\n",
    "    \n",
    "    Returns\n",
    "    -------\n",
    "    points_coords : np.ndarray\n",
    "        An NxD array with the coordinate for each detected spot.\n",
    "        N is the number of spots and D is the number of dimensions.\n",
    "    sizes : np.ndarray\n",
    "        An array of size N, where N is the number of detected spots\n",
    "        with the diameter of each spot.\n",
    "    \n",
    "    \"\"\"\n",
    "    # filter the image with the gaussian_high_pass filter\n",
    "    filtered_spots = gaussian_high_pass(image, high_pass_sigma)\n",
    "\n",
    "    # detect the spots on the filtered image\n",
    "    blobs_log = blob_log(\n",
    "        filtered_spots,\n",
    "        max_sigma=blob_sigma,\n",
    "        num_sigma=1,\n",
    "        threshold=spot_threshold\n",
    "    )\n",
    "    \n",
    "    # convert the output of the blob detector to the \n",
    "    # desired points_coords and sizes arrays\n",
    "    # (see the docstring for details)\n",
    "    points_coords = blobs_log[:, 0:2]\n",
    "    sizes = 3 * blobs_log[:, 2]\n",
    "\n",
    "    return points_coords, sizes"
   ]
  },
  {
   "cell_type": "markdown",
   "metadata": {},
   "source": [
    "In the cell below, apply `detect_spots()` to our `spots` image. To visualize the results, add the spots to the viewer as a [Points layer](https://napari.org/tutorials/fundamentals/points.html). If you would like to see an example of using a points layer, see [this example](https://github.com/napari/napari/blob/master/examples/add_points.py). To test out your function, vary the detection parameters and see how they affect the results. Note that each time you run the cell, the new results are added as an addition Points layer, allowing you to compare results from different parameters. To make it easier to compare results, you can try modifying the layer opacity or toggling the visibility with the \"eye\" icon in the layer list."
   ]
  },
  {
   "cell_type": "code",
   "execution_count": null,
   "metadata": {},
   "outputs": [],
   "source": [
    "# detect the spots\n",
    "\n",
    "\n",
    "# add the detected spots to the viewer as a Points layer\n"
   ]
  },
  {
   "cell_type": "markdown",
   "metadata": {},
   "source": [
    "## Conclusion\n",
    "\n",
    "In this activity, we have interactively prototyped a spot detection function using a combination of jupyter notebook, scipy, scikit-image, and napari. In the next activity, we will take the spot detection function we created and turn it into a napari plugin."
   ]
  }
 ],
 "metadata": {
  "kernelspec": {
   "display_name": "Python 3 (ipykernel)",
   "language": "python",
   "name": "python3"
  },
  "language_info": {
   "codemirror_mode": {
    "name": "ipython",
    "version": 3
   },
   "file_extension": ".py",
   "mimetype": "text/x-python",
   "name": "python",
   "nbconvert_exporter": "python",
   "pygments_lexer": "ipython3",
   "version": "3.9.7"
  }
 },
 "nbformat": 4,
 "nbformat_minor": 4
}
